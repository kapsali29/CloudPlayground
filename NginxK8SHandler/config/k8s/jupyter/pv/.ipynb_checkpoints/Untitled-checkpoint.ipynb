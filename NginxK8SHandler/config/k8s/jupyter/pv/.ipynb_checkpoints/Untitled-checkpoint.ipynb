{
 "cells": [
  {
   "cell_type": "code",
   "execution_count": 1,
   "id": "eef565a0-9035-4117-bc5d-43164cbff86c",
   "metadata": {
    "scrolled": true
   },
   "outputs": [
    {
     "name": "stdout",
     "output_type": "stream",
     "text": [
      "Requirement already satisfied: kubernetes in /opt/conda/lib/python3.11/site-packages (29.0.0)\n",
      "Requirement already satisfied: certifi>=14.05.14 in /opt/conda/lib/python3.11/site-packages (from kubernetes) (2023.7.22)\n",
      "Requirement already satisfied: six>=1.9.0 in /opt/conda/lib/python3.11/site-packages (from kubernetes) (1.16.0)\n",
      "Requirement already satisfied: python-dateutil>=2.5.3 in /opt/conda/lib/python3.11/site-packages (from kubernetes) (2.8.2)\n",
      "Requirement already satisfied: pyyaml>=5.4.1 in /opt/conda/lib/python3.11/site-packages (from kubernetes) (6.0.1)\n",
      "Requirement already satisfied: google-auth>=1.0.1 in /opt/conda/lib/python3.11/site-packages (from kubernetes) (2.27.0)\n",
      "Requirement already satisfied: websocket-client!=0.40.0,!=0.41.*,!=0.42.*,>=0.32.0 in /opt/conda/lib/python3.11/site-packages (from kubernetes) (1.6.4)\n",
      "Requirement already satisfied: requests in /opt/conda/lib/python3.11/site-packages (from kubernetes) (2.31.0)\n",
      "Requirement already satisfied: requests-oauthlib in /opt/conda/lib/python3.11/site-packages (from kubernetes) (1.3.1)\n",
      "Requirement already satisfied: oauthlib>=3.2.2 in /opt/conda/lib/python3.11/site-packages (from kubernetes) (3.2.2)\n",
      "Requirement already satisfied: urllib3>=1.24.2 in /opt/conda/lib/python3.11/site-packages (from kubernetes) (2.0.7)\n",
      "Requirement already satisfied: cachetools<6.0,>=2.0.0 in /opt/conda/lib/python3.11/site-packages (from google-auth>=1.0.1->kubernetes) (5.3.2)\n",
      "Requirement already satisfied: pyasn1-modules>=0.2.1 in /opt/conda/lib/python3.11/site-packages (from google-auth>=1.0.1->kubernetes) (0.3.0)\n",
      "Requirement already satisfied: rsa<5,>=3.1.4 in /opt/conda/lib/python3.11/site-packages (from google-auth>=1.0.1->kubernetes) (4.9)\n",
      "Requirement already satisfied: charset-normalizer<4,>=2 in /opt/conda/lib/python3.11/site-packages (from requests->kubernetes) (3.3.0)\n",
      "Requirement already satisfied: idna<4,>=2.5 in /opt/conda/lib/python3.11/site-packages (from requests->kubernetes) (3.4)\n",
      "Requirement already satisfied: pyasn1<0.6.0,>=0.4.6 in /opt/conda/lib/python3.11/site-packages (from pyasn1-modules>=0.2.1->google-auth>=1.0.1->kubernetes) (0.5.1)\n",
      "Note: you may need to restart the kernel to use updated packages.\n"
     ]
    }
   ],
   "source": [
    "pip install kubernetes"
   ]
  },
  {
   "cell_type": "code",
   "execution_count": 60,
   "id": "69b9fa04-8351-4d58-8ecb-b6ad32786773",
   "metadata": {},
   "outputs": [],
   "source": [
    "from kubernetes import config, dynamic\n",
    "from kubernetes.client import api_client"
   ]
  },
  {
   "cell_type": "code",
   "execution_count": 61,
   "id": "1eb2d513-37ef-46af-9e13-f8423d6bd6d3",
   "metadata": {},
   "outputs": [],
   "source": [
    "client = dynamic.DynamicClient(\n",
    "    api_client.ApiClient(configuration=config.load_incluster_config())\n",
    ")"
   ]
  },
  {
   "cell_type": "code",
   "execution_count": 62,
   "id": "68195643-008c-4437-87ee-15cdf1ddec0a",
   "metadata": {},
   "outputs": [],
   "source": [
    "api = client.resources.get(api_version=\"v1\", kind=\"ConfigMap\")"
   ]
  },
  {
   "cell_type": "code",
   "execution_count": 63,
   "id": "01c83c2a-e99b-457c-8c5f-2fae2b9c566b",
   "metadata": {},
   "outputs": [],
   "source": [
    "configmap_name = \"nginx-conf\""
   ]
  },
  {
   "cell_type": "code",
   "execution_count": 64,
   "id": "376d81dd-4d95-4a04-8f9a-a2bd7637f369",
   "metadata": {},
   "outputs": [],
   "source": [
    "configmap_manifest = {\n",
    "    \"kind\": \"ConfigMap\",\n",
    "    \"apiVersion\": \"v1\",\n",
    "    \"metadata\": {\"name\": configmap_name},\n",
    "    \"data\": {\n",
    "        \"nginx.conf\": \n",
    "        \"\"\"\n",
    "        server {\n",
    "                listen 80;\n",
    "                location /httpbin/ {\n",
    "                    rewrite /httpbin/(.*)  /$1 break;\n",
    "                    proxy_pass http://httpbin.default.svc.cluster.local:5000;\n",
    "                }\n",
    "            }\n",
    "        \"\"\"\n",
    "    }\n",
    "}"
   ]
  },
  {
   "cell_type": "code",
   "execution_count": 65,
   "id": "0499af03-becd-41e9-99f3-d77597911a4d",
   "metadata": {},
   "outputs": [],
   "source": [
    "#configmap = api.create(body=configmap_manifest, namespace=\"default\")"
   ]
  },
  {
   "cell_type": "code",
   "execution_count": 66,
   "id": "a5c4a1c4-bf6b-463f-a8a2-7fa1ff9ed278",
   "metadata": {},
   "outputs": [],
   "source": [
    "configmap_list = api.get(name=\"nginx-conf\", namespace=\"default\")"
   ]
  },
  {
   "cell_type": "code",
   "execution_count": 69,
   "id": "e00ad120-eb38-4939-af5d-39e8ca0ca1cc",
   "metadata": {},
   "outputs": [],
   "source": [
    "update_configmap = api.patch(\n",
    "    name=\"nginx-conf\",\n",
    "    namespace=\"default\",\n",
    "    body=configmap_manifest\n",
    ")"
   ]
  },
  {
   "cell_type": "code",
   "execution_count": 70,
   "id": "53d4278d-ce2f-45ff-89b0-fc8dbfcf8e33",
   "metadata": {},
   "outputs": [],
   "source": [
    "configmap_list = api.get(name=\"nginx-conf\", namespace=\"default\")"
   ]
  },
  {
   "cell_type": "code",
   "execution_count": 71,
   "id": "568d1c17-a34a-4b3b-8d10-36e77eb5a69f",
   "metadata": {},
   "outputs": [
    {
     "data": {
      "text/plain": [
       "ResourceInstance[ConfigMap]:\n",
       "  apiVersion: v1\n",
       "  data:\n",
       "    nginx.conf: \"\\n        server {\\n                listen 80;\\n                location\\\n",
       "      \\ /httpbin/ {\\n                    rewrite /httpbin/(.*)  /$1 break;\\n       \\\n",
       "      \\             proxy_pass http://httpbin.default.svc.cluster.local:5000;\\n    \\\n",
       "      \\            }\\n            }\\n        \"\n",
       "  kind: ConfigMap\n",
       "  metadata:\n",
       "    creationTimestamp: '2024-06-19T13:09:09Z'\n",
       "    managedFields:\n",
       "    - apiVersion: v1\n",
       "      fieldsType: FieldsV1\n",
       "      fieldsV1:\n",
       "        f:data:\n",
       "          .: {}\n",
       "          f:nginx.conf: {}\n",
       "      manager: OpenAPI-Generator\n",
       "      operation: Update\n",
       "      time: '2024-06-19T13:17:21Z'\n",
       "    name: nginx-conf\n",
       "    namespace: default\n",
       "    resourceVersion: '25277'\n",
       "    uid: 3358cdb4-d3c2-40ff-a088-4dc071899678"
      ]
     },
     "execution_count": 71,
     "metadata": {},
     "output_type": "execute_result"
    }
   ],
   "source": [
    "configmap_list"
   ]
  },
  {
   "cell_type": "code",
   "execution_count": 72,
   "id": "9b7310d4-6245-4b0f-863d-472fd1c463d2",
   "metadata": {},
   "outputs": [
    {
     "data": {
      "text/plain": [
       "{'nginx.conf': '\\n'\n",
       "               '        server {\\n'\n",
       "               '                listen 80;\\n'\n",
       "               '                location /httpbin/ {\\n'\n",
       "               '                    rewrite /httpbin/(.*)  /$1 break;\\n'\n",
       "               '                    proxy_pass '\n",
       "               'http://httpbin.default.svc.cluster.local:5000;\\n'\n",
       "               '                }\\n'\n",
       "               '            }\\n'\n",
       "               '        '}"
      ]
     },
     "execution_count": 72,
     "metadata": {},
     "output_type": "execute_result"
    }
   ],
   "source": [
    "configmap_list.data"
   ]
  },
  {
   "cell_type": "code",
   "execution_count": 79,
   "id": "7aaeb095-a886-4862-ba36-2fb4e1101f78",
   "metadata": {},
   "outputs": [],
   "source": [
    "inputs = [\n",
    "    {\"svc\": \"httpbin.default.svc.cluster.local\", \"port\": 5000, \"path\": \"httpbin\"},\n",
    "    {\"svc\": \"nodeserver.default.svc.cluster.local\", \"port\": 5000, \"path\": \"nodeserver\"}\n",
    "]"
   ]
  },
  {
   "cell_type": "code",
   "execution_count": 81,
   "id": "23a63546-fc1e-4ca2-ae56-010f256e2944",
   "metadata": {},
   "outputs": [
    {
     "ename": "SyntaxError",
     "evalue": "f-string: single '}' is not allowed (4278307997.py, line 6)",
     "output_type": "error",
     "traceback": [
      "\u001b[0;36m  Cell \u001b[0;32mIn[81], line 6\u001b[0;36m\u001b[0m\n\u001b[0;31m    for item in inputs\u001b[0m\n\u001b[0m    ^\u001b[0m\n\u001b[0;31mSyntaxError\u001b[0m\u001b[0;31m:\u001b[0m f-string: single '}' is not allowed\n"
     ]
    }
   ],
   "source": [
    "str_inputs = [\n",
    "    f\"\"\"\n",
    "    location /{item[\"path\"]}/\n",
    "    }\n",
    "    \"\"\"\n",
    "    for item in inputs\n",
    "]"
   ]
  },
  {
   "cell_type": "code",
   "execution_count": null,
   "id": "2be07d8e-297a-448c-b8e7-fbaeaf834057",
   "metadata": {},
   "outputs": [],
   "source": [
    "conf_template = f\"\"\"\n",
    "        server {\n",
    "                listen 80;\n",
    "                location /httpbin/ {\n",
    "                    rewrite /httpbin/(.*)  /$1 break;\n",
    "                    proxy_pass http://httpbin.default.svc.cluster.local:5000;\n",
    "                }\n",
    "            }\n",
    "\"\"\""
   ]
  },
  {
   "cell_type": "code",
   "execution_count": 84,
   "id": "7295ebe2-88a2-40c9-86b9-689c4bad8225",
   "metadata": {},
   "outputs": [
    {
     "ename": "SyntaxError",
     "evalue": "f-string: single '}' is not allowed (632341416.py, line 5)",
     "output_type": "error",
     "traceback": [
      "\u001b[0;36m  Cell \u001b[0;32mIn[84], line 5\u001b[0;36m\u001b[0m\n\u001b[0;31m    \"\"\"\u001b[0m\n\u001b[0m       ^\u001b[0m\n\u001b[0;31mSyntaxError\u001b[0m\u001b[0;31m:\u001b[0m f-string: single '}' is not allowed\n"
     ]
    }
   ],
   "source": [
    "path = \"pan\"\n",
    "f\"\"\"\n",
    "location /{{path}}/\n",
    "}\n",
    "\"\"\""
   ]
  },
  {
   "cell_type": "code",
   "execution_count": 85,
   "id": "5492e8ec-b387-4588-98ac-63517ab66147",
   "metadata": {},
   "outputs": [],
   "source": [
    "import nginx"
   ]
  },
  {
   "cell_type": "code",
   "execution_count": 86,
   "id": "03f15a05-4035-4573-93df-444299298771",
   "metadata": {},
   "outputs": [],
   "source": [
    "c = nginx.Conf()"
   ]
  },
  {
   "cell_type": "code",
   "execution_count": 87,
   "id": "cb87800f-8346-43ba-8f3e-d6cc5333a183",
   "metadata": {},
   "outputs": [],
   "source": [
    "s = nginx.Server()"
   ]
  },
  {
   "cell_type": "code",
   "execution_count": 89,
   "id": "79a7279e-9273-46b2-b8fb-c642ffe4d1ef",
   "metadata": {},
   "outputs": [
    {
     "data": {
      "text/plain": [
       "[<nginx.Key at 0xffff84464590>, <nginx.Location at 0xffff84467e90>]"
      ]
     },
     "execution_count": 89,
     "metadata": {},
     "output_type": "execute_result"
    }
   ],
   "source": [
    "s.add(\n",
    "    nginx.Key('listen', '80'),\n",
    "    nginx.Location('/httpbin',\n",
    "                   nginx.Key('rewrite' ,'/httpbin/(.*)  /$1 break;'),\n",
    "                   nginx.Key('proxy_pass', 'http://httpbin.default.svc.cluster.local:5000;')\n",
    "                  )\n",
    ")"
   ]
  },
  {
   "cell_type": "code",
   "execution_count": 90,
   "id": "37d4a4d2-b310-4c2c-9206-92381ce0ccfd",
   "metadata": {},
   "outputs": [
    {
     "data": {
      "text/plain": [
       "[<nginx.Server at 0xffff844255d0>]"
      ]
     },
     "execution_count": 90,
     "metadata": {},
     "output_type": "execute_result"
    }
   ],
   "source": [
    "c.add(s)"
   ]
  },
  {
   "cell_type": "code",
   "execution_count": 95,
   "id": "d8a1436a-d221-4c16-b0fc-f012744edd41",
   "metadata": {},
   "outputs": [
    {
     "data": {
      "text/plain": [
       "['server {\\n',\n",
       " '    listen 80;\\n',\n",
       " '\\n    location /httpbin {\\n',\n",
       " '        rewrite \"/httpbin/(.*)  /$1 break;\";\\n',\n",
       " '        proxy_pass \"http://httpbin.default.svc.cluster.local:5000;\";\\n',\n",
       " '    }\\n',\n",
       " '}\\n']"
      ]
     },
     "execution_count": 95,
     "metadata": {},
     "output_type": "execute_result"
    }
   ],
   "source": [
    "c.as_strings"
   ]
  },
  {
   "cell_type": "code",
   "execution_count": null,
   "id": "aa71914c-b769-467a-b291-b36cd91216af",
   "metadata": {},
   "outputs": [],
   "source": []
  }
 ],
 "metadata": {
  "kernelspec": {
   "display_name": "Python 3 (ipykernel)",
   "language": "python",
   "name": "python3"
  },
  "language_info": {
   "codemirror_mode": {
    "name": "ipython",
    "version": 3
   },
   "file_extension": ".py",
   "mimetype": "text/x-python",
   "name": "python",
   "nbconvert_exporter": "python",
   "pygments_lexer": "ipython3",
   "version": "3.11.6"
  }
 },
 "nbformat": 4,
 "nbformat_minor": 5
}
