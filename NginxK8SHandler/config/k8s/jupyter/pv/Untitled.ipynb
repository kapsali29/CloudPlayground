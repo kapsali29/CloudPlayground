{
 "cells": [
  {
   "cell_type": "code",
   "execution_count": 1,
   "id": "eef565a0-9035-4117-bc5d-43164cbff86c",
   "metadata": {
    "scrolled": true
   },
   "outputs": [
    {
     "name": "stdout",
     "output_type": "stream",
     "text": [
      "Requirement already satisfied: kubernetes in /opt/conda/lib/python3.11/site-packages (29.0.0)\n",
      "Requirement already satisfied: certifi>=14.05.14 in /opt/conda/lib/python3.11/site-packages (from kubernetes) (2023.7.22)\n",
      "Requirement already satisfied: six>=1.9.0 in /opt/conda/lib/python3.11/site-packages (from kubernetes) (1.16.0)\n",
      "Requirement already satisfied: python-dateutil>=2.5.3 in /opt/conda/lib/python3.11/site-packages (from kubernetes) (2.8.2)\n",
      "Requirement already satisfied: pyyaml>=5.4.1 in /opt/conda/lib/python3.11/site-packages (from kubernetes) (6.0.1)\n",
      "Requirement already satisfied: google-auth>=1.0.1 in /opt/conda/lib/python3.11/site-packages (from kubernetes) (2.27.0)\n",
      "Requirement already satisfied: websocket-client!=0.40.0,!=0.41.*,!=0.42.*,>=0.32.0 in /opt/conda/lib/python3.11/site-packages (from kubernetes) (1.6.4)\n",
      "Requirement already satisfied: requests in /opt/conda/lib/python3.11/site-packages (from kubernetes) (2.31.0)\n",
      "Requirement already satisfied: requests-oauthlib in /opt/conda/lib/python3.11/site-packages (from kubernetes) (1.3.1)\n",
      "Requirement already satisfied: oauthlib>=3.2.2 in /opt/conda/lib/python3.11/site-packages (from kubernetes) (3.2.2)\n",
      "Requirement already satisfied: urllib3>=1.24.2 in /opt/conda/lib/python3.11/site-packages (from kubernetes) (2.0.7)\n",
      "Requirement already satisfied: cachetools<6.0,>=2.0.0 in /opt/conda/lib/python3.11/site-packages (from google-auth>=1.0.1->kubernetes) (5.3.2)\n",
      "Requirement already satisfied: pyasn1-modules>=0.2.1 in /opt/conda/lib/python3.11/site-packages (from google-auth>=1.0.1->kubernetes) (0.3.0)\n",
      "Requirement already satisfied: rsa<5,>=3.1.4 in /opt/conda/lib/python3.11/site-packages (from google-auth>=1.0.1->kubernetes) (4.9)\n",
      "Requirement already satisfied: charset-normalizer<4,>=2 in /opt/conda/lib/python3.11/site-packages (from requests->kubernetes) (3.3.0)\n",
      "Requirement already satisfied: idna<4,>=2.5 in /opt/conda/lib/python3.11/site-packages (from requests->kubernetes) (3.4)\n",
      "Requirement already satisfied: pyasn1<0.6.0,>=0.4.6 in /opt/conda/lib/python3.11/site-packages (from pyasn1-modules>=0.2.1->google-auth>=1.0.1->kubernetes) (0.5.1)\n",
      "Note: you may need to restart the kernel to use updated packages.\n"
     ]
    }
   ],
   "source": [
    "pip install kubernetes"
   ]
  },
  {
   "cell_type": "code",
   "execution_count": 156,
   "id": "69b9fa04-8351-4d58-8ecb-b6ad32786773",
   "metadata": {},
   "outputs": [],
   "source": []
  },
  {
   "cell_type": "code",
   "execution_count": 161,
   "id": "ac3fc422-28aa-4252-90b1-61e54bef767f",
   "metadata": {},
   "outputs": [],
   "source": [
    "class K8SClient(object):\n",
    "    def __init__(self):\n",
    "        self.client = dynamic.DynamicClient(\n",
    "            api_client.ApiClient(configuration=config.load_incluster_config())\n",
    "        )\n",
    "\n",
    "    @staticmethod\n",
    "    def manifest_base(configmap_name):\n",
    "        configmap_manifest = {\n",
    "            \"kind\": \"ConfigMap\",\n",
    "            \"apiVersion\": \"v1\",\n",
    "            \"metadata\": {\"name\": configmap_name},\n",
    "            \"data\": {}\n",
    "        }\n",
    "        return configmap_manifest\n",
    "\n",
    "    @staticmethod\n",
    "    def set_location(\n",
    "        path,\n",
    "        svc,\n",
    "        port\n",
    "    ):\n",
    "        this_location = nginx.Location('/'+ f'{path}' + '/',\n",
    "                                       nginx.Key('rewrite' ,'/'+ f'{path}' + '/(.*)  /$1 break'),\n",
    "                                       nginx.Key('proxy_pass', f'http://{svc}:{port}')\n",
    "                                      )\n",
    "        return this_location\n",
    "        \n",
    "        \n",
    "    def get_configmap(\n",
    "        self,\n",
    "        config_map_name,\n",
    "        namespace=\"default\"\n",
    "    ):\n",
    "        result = self.api.get(\n",
    "            name=config_map_name,\n",
    "            namespace=namespace\n",
    "        )\n",
    "        return result\n",
    "\n",
    "    def patch_configmap(\n",
    "        self,\n",
    "        config_map_name,\n",
    "        configmap_manifest,\n",
    "        namespace=\"default\"\n",
    "    ):\n",
    "        update_configmap = api.patch(\n",
    "            name=config_map_name,\n",
    "            namespace=namespace,\n",
    "            body=configmap_manifest\n",
    "        )\n",
    "\n",
    "    def create_nginx_conf(\n",
    "        self,\n",
    "        configmap_name,\n",
    "        list_of_svcs\n",
    "    ):\n",
    "        configmap_manifest = self.manifest_base(configmap_name)\n",
    "        nginx_conf = nginx.Conf()\n",
    "        nginx_server = nginx.Server()\n",
    "        nginx_server.add(nginx.Key('listen', '80'))\n",
    "        for svc_details in list_of_svcs:\n",
    "            nginx_server.add(self.set_location(\n",
    "                svc_details['path'],\n",
    "                svc_details['svc'],\n",
    "                svc_details['port']\n",
    "            ))\n",
    "        nginx_conf.add(nginx_server)\n",
    "        configmap_manifest[\"data\"][\"nginx.conf\"] = \" \".join(nginx_conf.as_strings)\n",
    "        self.patch_configmap(\n",
    "            config_map_name=configmap_name,\n",
    "            configmap_manifest=configmap_manifest\n",
    "        )\n",
    "        return nginx_conf"
   ]
  },
  {
   "cell_type": "code",
   "execution_count": 162,
   "id": "01c83c2a-e99b-457c-8c5f-2fae2b9c566b",
   "metadata": {},
   "outputs": [],
   "source": [
    "configmap_name = \"nginx-conf\""
   ]
  },
  {
   "cell_type": "code",
   "execution_count": 163,
   "id": "91af8edd-49e2-4f51-8fec-1f8beedf8f64",
   "metadata": {},
   "outputs": [],
   "source": [
    "k = K8SClient()"
   ]
  },
  {
   "cell_type": "code",
   "execution_count": 164,
   "id": "53bc2c63-08d1-4215-b6af-7a41481a5f07",
   "metadata": {},
   "outputs": [],
   "source": [
    "res = k.create_nginx_conf(\n",
    "    configmap_name=\"nginx-conf\",\n",
    "    list_of_svcs=[\n",
    "    {\"svc\": \"httpbin.default.svc.cluster.local\", \"port\": 5000, \"path\": \"httpbin\"},\n",
    "    {\"svc\": \"nodeserver.default.svc.cluster.local\", \"port\": 5000, \"path\": \"nodeserver\"}\n",
    "]\n",
    ")"
   ]
  },
  {
   "cell_type": "code",
   "execution_count": null,
   "id": "aa71914c-b769-467a-b291-b36cd91216af",
   "metadata": {},
   "outputs": [],
   "source": []
  }
 ],
 "metadata": {
  "kernelspec": {
   "display_name": "Python 3 (ipykernel)",
   "language": "python",
   "name": "python3"
  },
  "language_info": {
   "codemirror_mode": {
    "name": "ipython",
    "version": 3
   },
   "file_extension": ".py",
   "mimetype": "text/x-python",
   "name": "python",
   "nbconvert_exporter": "python",
   "pygments_lexer": "ipython3",
   "version": "3.11.6"
  }
 },
 "nbformat": 4,
 "nbformat_minor": 5
}
