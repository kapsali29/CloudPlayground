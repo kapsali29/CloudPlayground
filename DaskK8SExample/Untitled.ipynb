{
 "cells": [
  {
   "cell_type": "code",
   "execution_count": 40,
   "id": "ecf86555-50f1-4bd6-af41-eb60faa7aaec",
   "metadata": {},
   "outputs": [],
   "source": [
    "import dask.dataframe as dd\n",
    "import minio\n",
    "import os\n",
    "import json\n",
    "import datetime\n",
    "from dask_kubernetes.operator import KubeCluster"
   ]
  },
  {
   "cell_type": "code",
   "execution_count": 42,
   "id": "f3ca3176-91ff-4cd1-a91c-689fb54a100d",
   "metadata": {},
   "outputs": [],
   "source": [
    "minio_client = minio.Minio(\n",
    "    endpoint=\"digibuild.epu.ntua.gr:9000\",\n",
    "    access_key=\"minio\",\n",
    "    secret_key=\"minio123\",\n",
    "    secure=False\n",
    ")"
   ]
  },
  {
   "cell_type": "code",
   "execution_count": 43,
   "id": "1ba27242-9fe6-460c-b29b-d24fe13c672a",
   "metadata": {},
   "outputs": [
    {
     "data": {
      "application/vnd.jupyter.widget-view+json": {
       "model_id": "36fb4b97733346eab7321a630ff5b5f8",
       "version_major": 2,
       "version_minor": 0
      },
      "text/plain": [
       "Output()"
      ]
     },
     "metadata": {},
     "output_type": "display_data"
    },
    {
     "data": {
      "text/html": [
       "<pre style=\"white-space:pre;overflow-x:auto;line-height:normal;font-family:Menlo,'DejaVu Sans Mono',consolas,'Courier New',monospace\"></pre>\n"
      ],
      "text/plain": []
     },
     "metadata": {},
     "output_type": "display_data"
    }
   ],
   "source": [
    "cluster = KubeCluster(\n",
    "    name=\"testcluster\",\n",
    "    env={\"EXTRA_PIP_PACKAGES\": \"s3fs\"} # add extra packages\n",
    ")\n",
    "cluster.add_worker_group(\n",
    "    name=\"cagri\",\n",
    "    n_workers=2,\n",
    "    resources={\n",
    "        \"requests\":{\"memory\": \"2Gi\"},\n",
    "        \"limits\": {\"memory\": \"4Gi\"}\n",
    "    }\n",
    ")"
   ]
  },
  {
   "cell_type": "code",
   "execution_count": 44,
   "id": "5daf6a0c-0b3a-4307-b71d-c47ac3781a42",
   "metadata": {},
   "outputs": [
    {
     "name": "stderr",
     "output_type": "stream",
     "text": [
      "/Users/panagiotiskapsalis/PycharmProjects/MARTEL-PROJECTS/DaskK8SExample/.venv/lib/python3.9/site-packages/distributed/client.py:1393: VersionMismatchWarning: Mismatched versions found\n",
      "\n",
      "+---------+---------------+-----------------+-----------------+\n",
      "| Package | Client        | Scheduler       | Workers         |\n",
      "+---------+---------------+-----------------+-----------------+\n",
      "| msgpack | 1.0.8         | 1.0.7           | 1.0.7           |\n",
      "| python  | 3.9.6.final.0 | 3.10.12.final.0 | 3.10.12.final.0 |\n",
      "| toolz   | 0.12.1        | 0.12.0          | 0.12.0          |\n",
      "+---------+---------------+-----------------+-----------------+\n",
      "  warnings.warn(version_module.VersionMismatchWarning(msg[0][\"warning\"]))\n"
     ]
    },
    {
     "data": {
      "text/html": [
       "<div>\n",
       "    <div style=\"width: 24px; height: 24px; background-color: #e1e1e1; border: 3px solid #9D9D9D; border-radius: 5px; position: absolute;\"> </div>\n",
       "    <div style=\"margin-left: 48px;\">\n",
       "        <h3 style=\"margin-bottom: 0px;\">Client</h3>\n",
       "        <p style=\"color: #9D9D9D; margin-bottom: 0px;\">Client-7988e530-1456-11ef-abb5-4a886244208d</p>\n",
       "        <table style=\"width: 100%; text-align: left;\">\n",
       "\n",
       "        <tr>\n",
       "        \n",
       "            <td style=\"text-align: left;\"><strong>Connection method:</strong> Cluster object</td>\n",
       "            <td style=\"text-align: left;\"><strong>Cluster type:</strong> dask_kubernetes.KubeCluster</td>\n",
       "        \n",
       "        </tr>\n",
       "\n",
       "        \n",
       "            <tr>\n",
       "                <td style=\"text-align: left;\">\n",
       "                    <strong>Dashboard: </strong> <a href=\"http://localhost:53462/status\" target=\"_blank\">http://localhost:53462/status</a>\n",
       "                </td>\n",
       "                <td style=\"text-align: left;\"></td>\n",
       "            </tr>\n",
       "        \n",
       "\n",
       "        </table>\n",
       "\n",
       "        \n",
       "\n",
       "        \n",
       "            <details>\n",
       "            <summary style=\"margin-bottom: 20px;\"><h3 style=\"display: inline;\">Cluster Info</h3></summary>\n",
       "            <div class=\"jp-RenderedHTMLCommon jp-RenderedHTML jp-mod-trusted jp-OutputArea-output\">\n",
       "    <div style=\"width: 24px; height: 24px; background-color: #e1e1e1; border: 3px solid #9D9D9D; border-radius: 5px; position: absolute;\">\n",
       "    </div>\n",
       "    <div style=\"margin-left: 48px;\">\n",
       "        <h3 style=\"margin-bottom: 0px; margin-top: 0px;\">KubeCluster</h3>\n",
       "        <p style=\"color: #9D9D9D; margin-bottom: 0px;\">testcluster</p>\n",
       "        <table style=\"width: 100%; text-align: left;\">\n",
       "            <tr>\n",
       "                <td style=\"text-align: left;\">\n",
       "                    <strong>Dashboard:</strong> <a href=\"http://localhost:53462/status\" target=\"_blank\">http://localhost:53462/status</a>\n",
       "                </td>\n",
       "                <td style=\"text-align: left;\">\n",
       "                    <strong>Workers:</strong> 2\n",
       "                </td>\n",
       "            </tr>\n",
       "            <tr>\n",
       "                <td style=\"text-align: left;\">\n",
       "                    <strong>Total threads:</strong> 16\n",
       "                </td>\n",
       "                <td style=\"text-align: left;\">\n",
       "                    <strong>Total memory:</strong> 8.00 GiB\n",
       "                </td>\n",
       "            </tr>\n",
       "            \n",
       "        </table>\n",
       "\n",
       "        <details>\n",
       "            <summary style=\"margin-bottom: 20px;\">\n",
       "                <h3 style=\"display: inline;\">Scheduler Info</h3>\n",
       "            </summary>\n",
       "\n",
       "            <div style=\"\">\n",
       "    <div>\n",
       "        <div style=\"width: 24px; height: 24px; background-color: #FFF7E5; border: 3px solid #FF6132; border-radius: 5px; position: absolute;\"> </div>\n",
       "        <div style=\"margin-left: 48px;\">\n",
       "            <h3 style=\"margin-bottom: 0px;\">Scheduler</h3>\n",
       "            <p style=\"color: #9D9D9D; margin-bottom: 0px;\">Scheduler-1dd0c281-d598-43ff-a170-9eb48f4223f7</p>\n",
       "            <table style=\"width: 100%; text-align: left;\">\n",
       "                <tr>\n",
       "                    <td style=\"text-align: left;\">\n",
       "                        <strong>Comm:</strong> tcp://10.1.5.53:8786\n",
       "                    </td>\n",
       "                    <td style=\"text-align: left;\">\n",
       "                        <strong>Workers:</strong> 2\n",
       "                    </td>\n",
       "                </tr>\n",
       "                <tr>\n",
       "                    <td style=\"text-align: left;\">\n",
       "                        <strong>Dashboard:</strong> <a href=\"http://10.1.5.53:8787/status\" target=\"_blank\">http://10.1.5.53:8787/status</a>\n",
       "                    </td>\n",
       "                    <td style=\"text-align: left;\">\n",
       "                        <strong>Total threads:</strong> 16\n",
       "                    </td>\n",
       "                </tr>\n",
       "                <tr>\n",
       "                    <td style=\"text-align: left;\">\n",
       "                        <strong>Started:</strong> 1 minute ago\n",
       "                    </td>\n",
       "                    <td style=\"text-align: left;\">\n",
       "                        <strong>Total memory:</strong> 8.00 GiB\n",
       "                    </td>\n",
       "                </tr>\n",
       "            </table>\n",
       "        </div>\n",
       "    </div>\n",
       "\n",
       "    <details style=\"margin-left: 48px;\">\n",
       "        <summary style=\"margin-bottom: 20px;\">\n",
       "            <h3 style=\"display: inline;\">Workers</h3>\n",
       "        </summary>\n",
       "\n",
       "        \n",
       "        <div style=\"margin-bottom: 20px;\">\n",
       "            <div style=\"width: 24px; height: 24px; background-color: #DBF5FF; border: 3px solid #4CC9FF; border-radius: 5px; position: absolute;\"> </div>\n",
       "            <div style=\"margin-left: 48px;\">\n",
       "            <details>\n",
       "                <summary>\n",
       "                    <h4 style=\"margin-bottom: 0px; display: inline;\">Worker: testcluster-cagri-worker-7dc41faea2</h4>\n",
       "                </summary>\n",
       "                <table style=\"width: 100%; text-align: left;\">\n",
       "                    <tr>\n",
       "                        <td style=\"text-align: left;\">\n",
       "                            <strong>Comm: </strong> tcp://10.1.5.54:40541\n",
       "                        </td>\n",
       "                        <td style=\"text-align: left;\">\n",
       "                            <strong>Total threads: </strong> 8\n",
       "                        </td>\n",
       "                    </tr>\n",
       "                    <tr>\n",
       "                        <td style=\"text-align: left;\">\n",
       "                            <strong>Dashboard: </strong> <a href=\"http://10.1.5.54:8788/status\" target=\"_blank\">http://10.1.5.54:8788/status</a>\n",
       "                        </td>\n",
       "                        <td style=\"text-align: left;\">\n",
       "                            <strong>Memory: </strong> 4.00 GiB\n",
       "                        </td>\n",
       "                    </tr>\n",
       "                    <tr>\n",
       "                        <td style=\"text-align: left;\">\n",
       "                            <strong>Nanny: </strong> tcp://10.1.5.54:41609\n",
       "                        </td>\n",
       "                        <td style=\"text-align: left;\"></td>\n",
       "                    </tr>\n",
       "                    <tr>\n",
       "                        <td colspan=\"2\" style=\"text-align: left;\">\n",
       "                            <strong>Local directory: </strong> /tmp/dask-scratch-space/worker-jgzfo_t4\n",
       "                        </td>\n",
       "                    </tr>\n",
       "\n",
       "                    \n",
       "\n",
       "                    \n",
       "\n",
       "                </table>\n",
       "            </details>\n",
       "            </div>\n",
       "        </div>\n",
       "        \n",
       "        <div style=\"margin-bottom: 20px;\">\n",
       "            <div style=\"width: 24px; height: 24px; background-color: #DBF5FF; border: 3px solid #4CC9FF; border-radius: 5px; position: absolute;\"> </div>\n",
       "            <div style=\"margin-left: 48px;\">\n",
       "            <details>\n",
       "                <summary>\n",
       "                    <h4 style=\"margin-bottom: 0px; display: inline;\">Worker: testcluster-cagri-worker-9e1be39c91</h4>\n",
       "                </summary>\n",
       "                <table style=\"width: 100%; text-align: left;\">\n",
       "                    <tr>\n",
       "                        <td style=\"text-align: left;\">\n",
       "                            <strong>Comm: </strong> tcp://10.1.5.55:40351\n",
       "                        </td>\n",
       "                        <td style=\"text-align: left;\">\n",
       "                            <strong>Total threads: </strong> 8\n",
       "                        </td>\n",
       "                    </tr>\n",
       "                    <tr>\n",
       "                        <td style=\"text-align: left;\">\n",
       "                            <strong>Dashboard: </strong> <a href=\"http://10.1.5.55:8788/status\" target=\"_blank\">http://10.1.5.55:8788/status</a>\n",
       "                        </td>\n",
       "                        <td style=\"text-align: left;\">\n",
       "                            <strong>Memory: </strong> 4.00 GiB\n",
       "                        </td>\n",
       "                    </tr>\n",
       "                    <tr>\n",
       "                        <td style=\"text-align: left;\">\n",
       "                            <strong>Nanny: </strong> tcp://10.1.5.55:38805\n",
       "                        </td>\n",
       "                        <td style=\"text-align: left;\"></td>\n",
       "                    </tr>\n",
       "                    <tr>\n",
       "                        <td colspan=\"2\" style=\"text-align: left;\">\n",
       "                            <strong>Local directory: </strong> /tmp/dask-scratch-space/worker-53ti2_k8\n",
       "                        </td>\n",
       "                    </tr>\n",
       "\n",
       "                    \n",
       "\n",
       "                    \n",
       "\n",
       "                </table>\n",
       "            </details>\n",
       "            </div>\n",
       "        </div>\n",
       "        \n",
       "\n",
       "    </details>\n",
       "</div>\n",
       "\n",
       "        </details>\n",
       "    </div>\n",
       "</div>\n",
       "            </details>\n",
       "        \n",
       "\n",
       "    </div>\n",
       "</div>"
      ],
      "text/plain": [
       "<Client: 'tcp://10.1.5.53:8786' processes=2 threads=16, memory=8.00 GiB>"
      ]
     },
     "execution_count": 44,
     "metadata": {},
     "output_type": "execute_result"
    }
   ],
   "source": [
    "client = cluster.get_client()\n",
    "client"
   ]
  },
  {
   "cell_type": "code",
   "execution_count": 45,
   "id": "05d5f61c-aa4a-4629-b4bf-27b03616b313",
   "metadata": {},
   "outputs": [],
   "source": [
    "ddf = dd.read_csv(\n",
    "    's3://prefect-data/nycflights.csv',\n",
    "    storage_options={\n",
    "        \"client_kwargs\": {\n",
    "            \"endpoint_url\": 'http://digibuild.epu.ntua.gr:9000', \n",
    "            \"aws_access_key_id\":'minio', \n",
    "            \"aws_secret_access_key\":'minio123'\n",
    "        }}\n",
    "    )"
   ]
  },
  {
   "cell_type": "code",
   "execution_count": 46,
   "id": "cdc586d3-2596-43e1-bd4e-ec4fe7f4fb2a",
   "metadata": {},
   "outputs": [
    {
     "data": {
      "text/plain": [
       "Index(['year', 'month', 'day', 'dep_time', 'dep_delay', 'arr_time',\n",
       "       'arr_delay', 'carrier', 'tailnum', 'flight', 'origin', 'dest',\n",
       "       'air_time', 'distance', 'hour', 'minute'],\n",
       "      dtype='object')"
      ]
     },
     "execution_count": 46,
     "metadata": {},
     "output_type": "execute_result"
    }
   ],
   "source": [
    "ddf.columns"
   ]
  },
  {
   "cell_type": "code",
   "execution_count": 47,
   "id": "112413c6-571e-42e4-b83a-5003af86ede4",
   "metadata": {},
   "outputs": [
    {
     "data": {
      "text/html": [
       "<div>\n",
       "<style scoped>\n",
       "    .dataframe tbody tr th:only-of-type {\n",
       "        vertical-align: middle;\n",
       "    }\n",
       "\n",
       "    .dataframe tbody tr th {\n",
       "        vertical-align: top;\n",
       "    }\n",
       "\n",
       "    .dataframe thead th {\n",
       "        text-align: right;\n",
       "    }\n",
       "</style>\n",
       "<table border=\"1\" class=\"dataframe\">\n",
       "  <thead>\n",
       "    <tr style=\"text-align: right;\">\n",
       "      <th></th>\n",
       "      <th>year</th>\n",
       "      <th>month</th>\n",
       "      <th>day</th>\n",
       "      <th>dep_time</th>\n",
       "      <th>dep_delay</th>\n",
       "      <th>arr_time</th>\n",
       "      <th>arr_delay</th>\n",
       "      <th>carrier</th>\n",
       "      <th>tailnum</th>\n",
       "      <th>flight</th>\n",
       "      <th>origin</th>\n",
       "      <th>dest</th>\n",
       "      <th>air_time</th>\n",
       "      <th>distance</th>\n",
       "      <th>hour</th>\n",
       "      <th>minute</th>\n",
       "    </tr>\n",
       "  </thead>\n",
       "  <tbody>\n",
       "    <tr>\n",
       "      <th>0</th>\n",
       "      <td>2013</td>\n",
       "      <td>6</td>\n",
       "      <td>30</td>\n",
       "      <td>940</td>\n",
       "      <td>15</td>\n",
       "      <td>1216</td>\n",
       "      <td>-4</td>\n",
       "      <td>VX</td>\n",
       "      <td>N626VA</td>\n",
       "      <td>407</td>\n",
       "      <td>JFK</td>\n",
       "      <td>LAX</td>\n",
       "      <td>313</td>\n",
       "      <td>2475</td>\n",
       "      <td>9</td>\n",
       "      <td>40</td>\n",
       "    </tr>\n",
       "    <tr>\n",
       "      <th>1</th>\n",
       "      <td>2013</td>\n",
       "      <td>5</td>\n",
       "      <td>7</td>\n",
       "      <td>1657</td>\n",
       "      <td>-3</td>\n",
       "      <td>2104</td>\n",
       "      <td>10</td>\n",
       "      <td>DL</td>\n",
       "      <td>N3760C</td>\n",
       "      <td>329</td>\n",
       "      <td>JFK</td>\n",
       "      <td>SJU</td>\n",
       "      <td>216</td>\n",
       "      <td>1598</td>\n",
       "      <td>16</td>\n",
       "      <td>57</td>\n",
       "    </tr>\n",
       "    <tr>\n",
       "      <th>2</th>\n",
       "      <td>2013</td>\n",
       "      <td>12</td>\n",
       "      <td>8</td>\n",
       "      <td>859</td>\n",
       "      <td>-1</td>\n",
       "      <td>1238</td>\n",
       "      <td>11</td>\n",
       "      <td>DL</td>\n",
       "      <td>N712TW</td>\n",
       "      <td>422</td>\n",
       "      <td>JFK</td>\n",
       "      <td>LAX</td>\n",
       "      <td>376</td>\n",
       "      <td>2475</td>\n",
       "      <td>8</td>\n",
       "      <td>59</td>\n",
       "    </tr>\n",
       "    <tr>\n",
       "      <th>3</th>\n",
       "      <td>2013</td>\n",
       "      <td>5</td>\n",
       "      <td>14</td>\n",
       "      <td>1841</td>\n",
       "      <td>-4</td>\n",
       "      <td>2122</td>\n",
       "      <td>-34</td>\n",
       "      <td>DL</td>\n",
       "      <td>N914DL</td>\n",
       "      <td>2391</td>\n",
       "      <td>JFK</td>\n",
       "      <td>TPA</td>\n",
       "      <td>135</td>\n",
       "      <td>1005</td>\n",
       "      <td>18</td>\n",
       "      <td>41</td>\n",
       "    </tr>\n",
       "    <tr>\n",
       "      <th>4</th>\n",
       "      <td>2013</td>\n",
       "      <td>7</td>\n",
       "      <td>21</td>\n",
       "      <td>1102</td>\n",
       "      <td>-3</td>\n",
       "      <td>1230</td>\n",
       "      <td>-8</td>\n",
       "      <td>9E</td>\n",
       "      <td>N823AY</td>\n",
       "      <td>3652</td>\n",
       "      <td>LGA</td>\n",
       "      <td>ORF</td>\n",
       "      <td>50</td>\n",
       "      <td>296</td>\n",
       "      <td>11</td>\n",
       "      <td>2</td>\n",
       "    </tr>\n",
       "  </tbody>\n",
       "</table>\n",
       "</div>"
      ],
      "text/plain": [
       "   year  month  day  dep_time  dep_delay  arr_time  arr_delay carrier tailnum  \\\n",
       "0  2013      6   30       940         15      1216         -4      VX  N626VA   \n",
       "1  2013      5    7      1657         -3      2104         10      DL  N3760C   \n",
       "2  2013     12    8       859         -1      1238         11      DL  N712TW   \n",
       "3  2013      5   14      1841         -4      2122        -34      DL  N914DL   \n",
       "4  2013      7   21      1102         -3      1230         -8      9E  N823AY   \n",
       "\n",
       "   flight origin dest  air_time  distance  hour  minute  \n",
       "0     407    JFK  LAX       313      2475     9      40  \n",
       "1     329    JFK  SJU       216      1598    16      57  \n",
       "2     422    JFK  LAX       376      2475     8      59  \n",
       "3    2391    JFK  TPA       135      1005    18      41  \n",
       "4    3652    LGA  ORF        50       296    11       2  "
      ]
     },
     "execution_count": 47,
     "metadata": {},
     "output_type": "execute_result"
    }
   ],
   "source": [
    "ddf.head()"
   ]
  },
  {
   "cell_type": "code",
   "execution_count": 49,
   "id": "c5d55a02-bcd6-4e13-8adb-6f59bd49aba3",
   "metadata": {},
   "outputs": [
    {
     "data": {
      "text/plain": [
       "1301"
      ]
     },
     "execution_count": 49,
     "metadata": {},
     "output_type": "execute_result"
    }
   ],
   "source": [
    "ddf.dep_delay.max().compute()"
   ]
  },
  {
   "cell_type": "code",
   "execution_count": 50,
   "id": "aa7f146c-bf92-42d8-9a1d-c7fbb5110b8c",
   "metadata": {},
   "outputs": [
    {
     "data": {
      "text/plain": [
       "32735"
      ]
     },
     "execution_count": 50,
     "metadata": {},
     "output_type": "execute_result"
    }
   ],
   "source": [
    "len(ddf)"
   ]
  },
  {
   "cell_type": "code",
   "execution_count": 52,
   "id": "dfdd85d4-70d6-48fb-87fd-cc58e55ad4f2",
   "metadata": {},
   "outputs": [
    {
     "data": {
      "text/plain": [
       "origin\n",
       "EWR    152.444567\n",
       "JFK    178.266037\n",
       "LGA    117.982120\n",
       "Name: air_time, dtype: float64"
      ]
     },
     "execution_count": 52,
     "metadata": {},
     "output_type": "execute_result"
    }
   ],
   "source": [
    "ddf.groupby('origin').air_time.mean().compute()"
   ]
  },
  {
   "cell_type": "code",
   "execution_count": 53,
   "id": "196fa186-4cb0-4b3b-ad0d-f2c890475923",
   "metadata": {},
   "outputs": [
    {
     "data": {
      "text/plain": [
       "origin\n",
       "EWR    15.310339\n",
       "JFK    12.265486\n",
       "LGA    10.134896\n",
       "Name: dep_delay, dtype: float64"
      ]
     },
     "execution_count": 53,
     "metadata": {},
     "output_type": "execute_result"
    }
   ],
   "source": [
    "ddf.groupby('origin').dep_delay.mean().compute()"
   ]
  },
  {
   "cell_type": "code",
   "execution_count": null,
   "id": "7475aba0-943f-45e5-8c52-ee8f32d8c951",
   "metadata": {},
   "outputs": [],
   "source": []
  },
  {
   "cell_type": "code",
   "execution_count": null,
   "id": "4beb484d-8c40-41a3-91d2-0da05dddab4c",
   "metadata": {},
   "outputs": [],
   "source": []
  },
  {
   "cell_type": "code",
   "execution_count": 36,
   "id": "7309a001-17bf-4fe6-8524-55e78d4d1fa2",
   "metadata": {},
   "outputs": [
    {
     "name": "stderr",
     "output_type": "stream",
     "text": [
      "/Users/panagiotiskapsalis/PycharmProjects/MARTEL-PROJECTS/DaskK8SExample/.venv/lib/python3.9/site-packages/distributed/client.py:4677: UserWarning: Mismatched versions found\n",
      "\n",
      "+---------+---------------+-----------------+-----------------+\n",
      "| Package | Client        | Scheduler       | Workers         |\n",
      "+---------+---------------+-----------------+-----------------+\n",
      "| msgpack | 1.0.8         | 1.0.7           | 1.0.7           |\n",
      "| python  | 3.9.6.final.0 | 3.10.12.final.0 | 3.10.12.final.0 |\n",
      "| toolz   | 0.12.1        | 0.12.0          | 0.12.0          |\n",
      "+---------+---------------+-----------------+-----------------+\n",
      "  warnings.warn(msg[\"warning\"])\n"
     ]
    },
    {
     "data": {
      "text/plain": [
       "{'scheduler': {'host': {'python': '3.10.12.final.0',\n",
       "   'python-bits': 64,\n",
       "   'OS': 'Linux',\n",
       "   'OS-release': '6.6.22-linuxkit',\n",
       "   'machine': 'x86_64',\n",
       "   'processor': 'x86_64',\n",
       "   'byteorder': 'little',\n",
       "   'LC_ALL': 'C.UTF-8',\n",
       "   'LANG': 'C.UTF-8'},\n",
       "  'packages': {'python': '3.10.12.final.0',\n",
       "   'dask': '2024.5.0',\n",
       "   'distributed': '2024.5.0',\n",
       "   'msgpack': '1.0.7',\n",
       "   'cloudpickle': '3.0.0',\n",
       "   'tornado': '6.4',\n",
       "   'toolz': '0.12.0',\n",
       "   'numpy': '1.26.4',\n",
       "   'pandas': '2.2.2',\n",
       "   'lz4': '4.3.3'}},\n",
       " 'workers': {'tcp://10.1.5.43:39383': {'host': {'python': '3.10.12.final.0',\n",
       "    'python-bits': 64,\n",
       "    'OS': 'Linux',\n",
       "    'OS-release': '6.6.22-linuxkit',\n",
       "    'machine': 'x86_64',\n",
       "    'processor': 'x86_64',\n",
       "    'byteorder': 'little',\n",
       "    'LC_ALL': 'C.UTF-8',\n",
       "    'LANG': 'C.UTF-8'},\n",
       "   'packages': {'python': '3.10.12.final.0',\n",
       "    'dask': '2024.5.0',\n",
       "    'distributed': '2024.5.0',\n",
       "    'msgpack': '1.0.7',\n",
       "    'cloudpickle': '3.0.0',\n",
       "    'tornado': '6.4',\n",
       "    'toolz': '0.12.0',\n",
       "    'numpy': '1.26.4',\n",
       "    'pandas': '2.2.2',\n",
       "    'lz4': '4.3.3'}},\n",
       "  'tcp://10.1.5.44:44801': {'host': {'python': '3.10.12.final.0',\n",
       "    'python-bits': 64,\n",
       "    'OS': 'Linux',\n",
       "    'OS-release': '6.6.22-linuxkit',\n",
       "    'machine': 'x86_64',\n",
       "    'processor': 'x86_64',\n",
       "    'byteorder': 'little',\n",
       "    'LC_ALL': 'C.UTF-8',\n",
       "    'LANG': 'C.UTF-8'},\n",
       "   'packages': {'python': '3.10.12.final.0',\n",
       "    'dask': '2024.5.0',\n",
       "    'distributed': '2024.5.0',\n",
       "    'msgpack': '1.0.7',\n",
       "    'cloudpickle': '3.0.0',\n",
       "    'tornado': '6.4',\n",
       "    'toolz': '0.12.0',\n",
       "    'numpy': '1.26.4',\n",
       "    'pandas': '2.2.2',\n",
       "    'lz4': '4.3.3'}}},\n",
       " 'client': {'host': {'python': '3.9.6.final.0',\n",
       "   'python-bits': 64,\n",
       "   'OS': 'Darwin',\n",
       "   'OS-release': '22.3.0',\n",
       "   'machine': 'arm64',\n",
       "   'processor': 'arm',\n",
       "   'byteorder': 'little',\n",
       "   'LC_ALL': 'None',\n",
       "   'LANG': 'C'},\n",
       "  'packages': {'python': '3.9.6.final.0',\n",
       "   'dask': '2024.5.0',\n",
       "   'distributed': '2024.5.0',\n",
       "   'msgpack': '1.0.8',\n",
       "   'cloudpickle': '3.0.0',\n",
       "   'tornado': '6.4',\n",
       "   'toolz': '0.12.1',\n",
       "   'numpy': '1.26.4',\n",
       "   'pandas': '2.2.2',\n",
       "   'lz4': '4.3.3'}}}"
      ]
     },
     "execution_count": 36,
     "metadata": {},
     "output_type": "execute_result"
    }
   ],
   "source": [
    "client.get_versions(check=True)"
   ]
  },
  {
   "cell_type": "code",
   "execution_count": null,
   "id": "981f544f-d383-40f1-8a3c-f0773e003285",
   "metadata": {},
   "outputs": [],
   "source": []
  },
  {
   "cell_type": "code",
   "execution_count": null,
   "id": "9a4f383b-049a-4253-b225-4a0b29a87dfb",
   "metadata": {},
   "outputs": [],
   "source": []
  },
  {
   "cell_type": "code",
   "execution_count": null,
   "id": "44849b39-fdaf-449d-8157-a729ef66aa60",
   "metadata": {},
   "outputs": [],
   "source": []
  },
  {
   "cell_type": "code",
   "execution_count": 37,
   "id": "96226f3f-a64a-4464-8425-abf7b0ff7bca",
   "metadata": {},
   "outputs": [],
   "source": [
    "cluster.close()"
   ]
  },
  {
   "cell_type": "code",
   "execution_count": 38,
   "id": "27e6c394-1303-4b76-a9d5-603e2b5911e7",
   "metadata": {},
   "outputs": [],
   "source": [
    "client.close()"
   ]
  },
  {
   "cell_type": "code",
   "execution_count": 14,
   "id": "069bbd2d-6869-4e2a-b928-5374c321b256",
   "metadata": {},
   "outputs": [
    {
     "data": {
      "text/plain": [
       "'data/nycflights.csv'"
      ]
     },
     "execution_count": 14,
     "metadata": {},
     "output_type": "execute_result"
    }
   ],
   "source": [
    "os.path.join(\"data\", \"nycflights.csv\")"
   ]
  },
  {
   "cell_type": "code",
   "execution_count": null,
   "id": "0a2a4e03-c435-4276-8c03-fb3dc5b02a88",
   "metadata": {},
   "outputs": [],
   "source": [
    "minio_client = "
   ]
  }
 ],
 "metadata": {
  "kernelspec": {
   "display_name": "Python 3 (ipykernel)",
   "language": "python",
   "name": "python3"
  },
  "language_info": {
   "codemirror_mode": {
    "name": "ipython",
    "version": 3
   },
   "file_extension": ".py",
   "mimetype": "text/x-python",
   "name": "python",
   "nbconvert_exporter": "python",
   "pygments_lexer": "ipython3",
   "version": "3.9.6"
  }
 },
 "nbformat": 4,
 "nbformat_minor": 5
}
